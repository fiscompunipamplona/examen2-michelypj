{
 "cells": [
  {
   "cell_type": "markdown",
   "metadata": {},
   "source": [
    "Nombres: Karoll Michely Parada Jaime       1094276349 ;\n",
    "         Carlos Alberto Hernandez Jaimes   1094264563"
   ]
  },
  {
   "cell_type": "markdown",
   "metadata": {},
   "source": [
    "EJERCICIO 5.9"
   ]
  },
  {
   "cell_type": "code",
   "execution_count": 2,
   "metadata": {},
   "outputs": [
    {
     "name": "stdout",
     "output_type": "stream",
     "text": [
      "Ingrese la Temparura:274\n",
      "CV:  644.2773758005834\n"
     ]
    },
    {
     "data": {
      "text/plain": [
       "Text(0, 0.5, 'Cv')"
      ]
     },
     "execution_count": 2,
     "metadata": {},
     "output_type": "execute_result"
    },
    {
     "data": {
      "image/png": "[encoded data removed]",
      "text/plain": [
       "<Figure size 432x288 with 1 Axes>"
      ]
     },
     "metadata": {
      "needs_background": "light"
     },
     "output_type": "display_data"
    }
   ],
   "source": [
    "import numpy as np\n",
    "import matplotlib.pyplot as plt\n",
    "from math import*\n",
    "from numpy import*\n",
    "from pylab import *\n",
    "\n",
    "v=0.001\n",
    "p=6.022e28\n",
    "T=int(input(\"Ingrese la Temparura:\"))\n",
    "D=428\n",
    "kb=1.3806e-23\n",
    "C=(9)*(v)*(p)*(kb)*((T/D)**3)\n",
    "\n",
    "def funcionx(x):\n",
    "    f=x**4/(exp(2)-2+1/exp(x))\n",
    "    return(f)\n",
    "\n",
    "a = 0\n",
    "b = D/T\n",
    "N = 100\n",
    "\n",
    "h = (b-a)/N\n",
    "x = a\n",
    "area = 0\n",
    "for i in range(N//2):\n",
    "    deltaA = C*(h/3)*(funcionx(x)+4*funcionx(x+h)+funcionx(x+2*h))\n",
    "    area=area+deltaA\n",
    "    x = x + 2*h\n",
    "\n",
    "print('CV: ', area)\n",
    "\n",
    "T = linspace(5,500,100)\n",
    "C= [funcionx(Ti) for Ti in T]\n",
    "plot(T,C)\n",
    "\n",
    "\n",
    "xlabel('Temperatura, K')\n",
    "ylabel('Cv')"
   ]
  },
  {
   "cell_type": "markdown",
   "metadata": {},
   "source": [
    "EJERCIO 5.10"
   ]
  },
  {
   "cell_type": "markdown",
   "metadata": {},
   "source": [
    "INCISO A) DEMOSTRACIÓN"
   ]
  },
  {
   "cell_type": "markdown",
   "metadata": {},
   "source": [
    "$E=\\frac{m}{2}(\\frac{dx}{dt})^{2}+ V(x)$\n",
    "\n",
    "$E-V(x)=\\frac{m}{2}(\\frac{dx}{dt})^{2}; E=V(a)$\n",
    "\n",
    "$\\sqrt{V(a)-V(x)}=\\sqrt{\\frac{m}{2}}(\\frac{dx}{dt})$\n",
    "\n",
    "$dt=\\sqrt{\\frac{m}{2}}\\frac{1}{\\sqrt{V(a)-V(x)}}dx$(1)\n",
    "\n",
    "Resolviendo la integral de dt; \n",
    "\n",
    "$\\begin{equation}\n",
    "dT= \\int_{0}^{\\frac{T}{4}}\\cdot dt =\\frac{1}{4}T(2)\n",
    "\\end{equation}$\n",
    "\n",
    "Reemplazando la ecuacion (2) en la ecuacion (1), obtenemos:\n",
    "\n",
    "$\\frac{1}{4}T=\\sqrt{\\frac{m}{2}}\\frac{1}{\\sqrt{V(a)-V(x)}}dx$\n",
    "$T=4*\\sqrt{\\frac{m}{2}}\\frac{1}{\\sqrt{V(a)-V(x)}}dx$\n",
    "$T=\\sqrt{\\frac{16*m}{2}}\\frac{1}{\\sqrt{V(a)-V(x)}}dx$\n",
    "\n",
    "$ \\begin{equation}\n",
    "T= \\sqrt(8m)\\int_{0}^{a} \\frac{ 1}{(\\sqrt(V(a)-V(x))} \\cdot dx\n",
    "\\end{equation}$"
   ]
  },
  {
   "cell_type": "markdown",
   "metadata": {},
   "source": [
    "INCISO B)"
   ]
  },
  {
   "cell_type": "code",
   "execution_count": 5,
   "metadata": {},
   "outputs": [
    {
     "name": "stderr",
     "output_type": "stream",
     "text": [
      "/home/usuario/.local/lib/python3.5/site-packages/ipykernel_launcher.py:5: RuntimeWarning: divide by zero encountered in true_divide\n",
      "  \"\"\"\n",
      "/home/usuario/.local/lib/python3.5/site-packages/ipykernel_launcher.py:16: RuntimeWarning: invalid value encountered in multiply\n",
      "  app.launch_new_instance()\n",
      "/home/usuario/.local/lib/python3.5/site-packages/ipykernel_launcher.py:5: RuntimeWarning: invalid value encountered in sqrt\n",
      "  \"\"\"\n"
     ]
    },
    {
     "data": {
      "text/plain": [
       "Text(0, 0.5, 'TIEMPO')"
      ]
     },
     "execution_count": 5,
     "metadata": {},
     "output_type": "execute_result"
    },
    {
     "data": {
      "image/png": "[encoded data removed]",
      "text/plain": [
       "<Figure size 432x288 with 1 Axes>"
      ]
     },
     "metadata": {
      "needs_background": "light"
     },
     "output_type": "display_data"
    }
   ],
   "source": [
    "m=1\n",
    "k=sqrt(8*m)\n",
    "\n",
    "def funcionx(x):\n",
    "    f=1/sqrt(b**4-x**4)\n",
    "    return(f)\n",
    "a=0\n",
    "r=[0,1,2]\n",
    "b=array(r,int)\n",
    "N = 20\n",
    "\n",
    "h = (b-a)/N\n",
    "x = a\n",
    "area = 0\n",
    "for i in range(N//2):\n",
    "    deltaA = k*(h/3)*(funcionx(x)+4*funcionx(x+h)+funcionx(x+2*h))\n",
    "    area=area+deltaA\n",
    "    x = x + 2*h\n",
    "   \n",
    "a = linspace(0,2,100)\n",
    "TIEMPO = [funcionx(ai) for ai in a]\n",
    "\n",
    "plot(a,TIEMPO)\n",
    "xlabel('POSICION INICIAL')\n",
    "ylabel('TIEMPO')"
   ]
  },
  {
   "cell_type": "markdown",
   "metadata": {},
   "source": []
  }
 ],
 "metadata": {
  "kernelspec": {
   "display_name": "Python 3",
   "language": "python",
   "name": "python3"
  },
  "language_info": {
   "codemirror_mode": {
    "name": "ipython",
    "version": 3
   },
   "file_extension": ".py",
   "mimetype": "text/x-python",
   "name": "python",
   "nbconvert_exporter": "python",
   "pygments_lexer": "ipython3",
   "version": "3.5.2"
  }
 },
 "nbformat": 4,
 "nbformat_minor": 2
}
